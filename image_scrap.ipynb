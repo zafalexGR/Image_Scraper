{
 "cells": [
  {
   "cell_type": "code",
   "execution_count": null,
   "id": "solar-schema",
   "metadata": {},
   "outputs": [],
   "source": [
    "import pytesseract\n",
    "from PIL import Image\n",
    "import random\n",
    "import string\n",
    "\n",
    "img = input(\"Enter the full path of the image you want to scrap text: \")\n",
    "try:\n",
    "    img_edit = Image.open(img)\n",
    "except:\n",
    "    print(\"Wrong path, please try again!\")\n",
    "\n",
    "pytesseract.pytesseract.tesseract_cmd = r\"C:\\Program Files\\Tesseract-OCR\\tesseract.exe\"\n",
    "output_string = ''.join(random.SystemRandom().choice(string.ascii_letters + string.digits) for _ in range(10))\n",
    "output_string += \".txt\"\n",
    "text = pytesseract.image_to_string(img_edit)\n",
    "text_file = open(output_string, \"w\")\n",
    "#text = text.encode('utf-8')\n",
    "n = text_file.write(text)\n",
    "text_file.close()\n",
    "print(text)"
   ]
  },
  {
   "cell_type": "code",
   "execution_count": null,
   "id": "parental-boost",
   "metadata": {},
   "outputs": [],
   "source": []
  }
 ],
 "metadata": {
  "kernelspec": {
   "display_name": "Python 3",
   "language": "python",
   "name": "python3"
  },
  "language_info": {
   "codemirror_mode": {
    "name": "ipython",
    "version": 3
   },
   "file_extension": ".py",
   "mimetype": "text/x-python",
   "name": "python",
   "nbconvert_exporter": "python",
   "pygments_lexer": "ipython3",
   "version": "3.8.8"
  }
 },
 "nbformat": 4,
 "nbformat_minor": 5
}
